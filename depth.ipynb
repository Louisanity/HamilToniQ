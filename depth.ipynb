{
 "cells": [
  {
   "cell_type": "code",
   "execution_count": 8,
   "metadata": {},
   "outputs": [
    {
     "data": {
      "text/html": [
       "<pre style=\"word-wrap: normal;white-space: pre;background: #fff0;line-height: 1.1;font-family: &quot;Courier New&quot;,Courier,monospace\">     ┌───────────────┐┌───────────────┐┌───────────────┐┌───────────────┐»\n",
       "q_0: ┤0              ├┤0              ├┤0              ├┤0              ├»\n",
       "     │  Rxx(0.66667) ││  Ryy(0.66667) ││  Rxx(0.66667) ││  Ryy(0.66667) │»\n",
       "q_1: ┤1              ├┤1              ├┤1              ├┤1              ├»\n",
       "     └───────────────┘└───────────────┘└───────────────┘└───────────────┘»\n",
       "«     ┌───────────────┐┌───────────────┐\n",
       "«q_0: ┤0              ├┤0              ├\n",
       "«     │  Rxx(0.66667) ││  Ryy(0.66667) │\n",
       "«q_1: ┤1              ├┤1              ├\n",
       "«     └───────────────┘└───────────────┘</pre>"
      ],
      "text/plain": [
       "     ┌───────────────┐┌───────────────┐┌───────────────┐┌───────────────┐»\n",
       "q_0: ┤0              ├┤0              ├┤0              ├┤0              ├»\n",
       "     │  Rxx(0.66667) ││  Ryy(0.66667) ││  Rxx(0.66667) ││  Ryy(0.66667) │»\n",
       "q_1: ┤1              ├┤1              ├┤1              ├┤1              ├»\n",
       "     └───────────────┘└───────────────┘└───────────────┘└───────────────┘»\n",
       "«     ┌───────────────┐┌───────────────┐\n",
       "«q_0: ┤0              ├┤0              ├\n",
       "«     │  Rxx(0.66667) ││  Ryy(0.66667) │\n",
       "«q_1: ┤1              ├┤1              ├\n",
       "«     └───────────────┘└───────────────┘"
      ]
     },
     "execution_count": 8,
     "metadata": {},
     "output_type": "execute_result"
    }
   ],
   "source": [
    "from qiskit import QuantumCircuit, QuantumRegister\n",
    "\n",
    "def XXYY(qc: QuantumCircuit, theta: float, q1: int, q2: int, trot: int):\n",
    "    for i in range(trot):\n",
    "        qc.rxx(theta/trot, q1, q2)\n",
    "        qc.ryy(theta/trot, q1, q2)\n",
    "\n",
    "qc = QuantumCircuit(2)\n",
    "XXYY(qc, 2, 0, 1, 3)\n",
    "qc.draw()"
   ]
  },
  {
   "cell_type": "code",
   "execution_count": null,
   "metadata": {},
   "outputs": [],
   "source": []
  }
 ],
 "metadata": {
  "kernelspec": {
   "display_name": "QC",
   "language": "python",
   "name": "python3"
  },
  "language_info": {
   "codemirror_mode": {
    "name": "ipython",
    "version": 3
   },
   "file_extension": ".py",
   "mimetype": "text/x-python",
   "name": "python",
   "nbconvert_exporter": "python",
   "pygments_lexer": "ipython3",
   "version": "3.10.10"
  },
  "orig_nbformat": 4
 },
 "nbformat": 4,
 "nbformat_minor": 2
}
