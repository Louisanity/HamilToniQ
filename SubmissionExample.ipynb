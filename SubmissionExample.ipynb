{
 "cells": [
  {
   "cell_type": "markdown",
   "id": "ce85d1aa-2916-40c2-b0b6-f9f0a773a3fa",
   "metadata": {
    "slideshow": {
     "slide_type": "-"
    }
   },
   "source": [
    "# HAMILTONIQ: COMPREHENSIVE OPTIMIZATION AND
BENCHMARKING FOR MIXER HAMILTONIAN IN QUANTUM
APPROXIMATE OPTIMIZATION ALGORITHM \n",
    "\n",
    "\n",
    "*Teammembers*\n",
    "\n",
    "## Introduction:\n",
    "\n",
    "Explain why you have chosen this topic. Why is it interesting? What makes it hard to solve?\n",
    "\n",
    "\n",
    "## Idea\n",
    "\n",
    "\n",
    "Explain what your idea is. Whats your approach in tackling this problem. Explain in detail the general idea, the steps and also why this should lead to a better solution\n",
    "\n",
    "\n",
    "## Solution\n",
    "\n",
    "### \"Naive\"/default solution\n",
    "\n",
    "Describe how the naive solution is implemented. If the default solution already has some optimization in it, explain what it is.\n",
    "And then implement the solution in code. Explain what parameters can be changed in the code below."
   ]
  },
  {
   "cell_type": "code",
   "execution_count": 1,
   "id": "c5d10dc4-08ba-4b1e-bbb7-9fc9caec4154",
   "metadata": {
    "slideshow": {
     "slide_type": "-"
    },
    "tags": []
   },
   "outputs": [],
   "source": [
    "# Importing all the parts we will need.\n",
    "from typing import List, Optional\n",
    "\n",
    "from qiskit import transpile, QuantumCircuit, QuantumRegister, ClassicalRegister, cAer\n",
    "from qiskit.providers.fake_provider import FakeManilaV2\n",
    "from qiskit.visualization import plot_histogram\n",
    "\n",
    "\n",
    "import warnings\n",
    "\n",
    "warnings.filterwarnings(\"ignore\")\n",
    "\n",
    "import math\n",
    "\n",
    "pi = math.pi\n",
    "\n",
    "\n",
    "# Your code here: Implementation of the naive solution"
   ]
  },
  {
   "cell_type": "markdown",
   "id": "bf19bd63-d166-41f7-87e3-f4df3776f5e2",
   "metadata": {
    "slideshow": {
     "slide_type": "-"
    }
   },
   "source": [
    "### Your solution\n",
    "\n",
    "Explain which paramateres can be changed in the code below, how to get different results."
   ]
  },
  {
   "cell_type": "code",
   "execution_count": 1,
   "id": "7cdc5fe7-ae31-43e1-8c9f-3680c2182523",
   "metadata": {
    "slideshow": {
     "slide_type": "-"
    },
    "tags": []
   },
   "outputs": [],
   "source": [
    "\n",
    "# Your code here: Implementation of the good solution"
   ]
  },
  {
   "cell_type": "markdown",
   "id": "890eaf59-b8b9-45a6-9e8d-aadb27eb9c0f",
   "metadata": {
    "slideshow": {
     "slide_type": "-"
    }
   },
   "source": [
    "## Results\n",
    "\n",
    "Analyse both solutions the naive and yours, and show what is better.\n",
    "This can both be done theoretically (like Big O notation) or also some concrete results.\n",
    "If possible show below some graphs to compare the 2 solutions helping to explain what makes your solution so good."
   ]
  },
  {
   "cell_type": "code",
   "execution_count": 1,
   "id": "b2541952-c14f-4546-aa4b-c5141add1f68",
   "metadata": {
    "slideshow": {
     "slide_type": "-"
    },
    "tags": []
   },
   "outputs": [],
   "source": [
    "\n",
    "# Your code here: Use code to show graphs"
   ]
  }
 ],
 "metadata": {
  "kernelspec": {
   "display_name": "Python 3 (ipykernel)",
   "language": "python",
   "name": "python3"
  },
  "language_info": {
   "codemirror_mode": {
    "name": "ipython",
    "version": 3
   },
   "file_extension": ".py",
   "mimetype": "text/x-python",
   "name": "python",
   "nbconvert_exporter": "python",
   "pygments_lexer": "ipython3",
   "version": "3.10.8"
  },
  "widgets": {
   "application/vnd.jupyter.widget-state+json": {
    "state": {},
    "version_major": 2,
    "version_minor": 0
   }
  }
 },
 "nbformat": 4,
 "nbformat_minor": 5
}
