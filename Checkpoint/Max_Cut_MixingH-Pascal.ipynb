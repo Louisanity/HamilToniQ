{
 "cells": [
  {
   "cell_type": "markdown",
   "id": "8a8c7e14-4160-49bb-bc8d-440a7d5a0f83",
   "metadata": {},
   "source": [
    "## Solving combinatorial optimization problems using QAOA\n"
   ]
  },
  {
   "cell_type": "markdown",
   "id": "c40fe754-eb79-46f7-9c65-c7728daa5aad",
   "metadata": {},
   "source": [
    "### Combinatorial Optimization Problem\n"
   ]
  },
  {
   "cell_type": "code",
   "execution_count": 23,
   "id": "caa77d10-6b44-480c-a67d-e7520dcb8566",
   "metadata": {
    "tags": []
   },
   "outputs": [
    {
     "name": "stdout",
     "output_type": "stream",
     "text": [
      "{'qiskit-terra': '0.24.0', 'qiskit-aer': '0.12.0', 'qiskit-ignis': None, 'qiskit-ibmq-provider': '0.20.2', 'qiskit': '0.43.0', 'qiskit-nature': None, 'qiskit-finance': None, 'qiskit-optimization': None, 'qiskit-machine-learning': None}\n"
     ]
    }
   ],
   "source": [
    "import networkx as nx\n",
    "from qiskit import QuantumCircuit, Aer\n",
    "from qiskit.circuit import Parameter\n",
    "from qiskit.extensions import UnitaryGate\n",
    "from qiskit.circuit.library import XXPlusYYGate\n",
    "from qiskit_ibm_runtime import QiskitRuntimeService, Sampler\n",
    "from qiskit import transpile\n",
    "import numpy as np\n",
    "import qiskit\n",
    "import math\n",
    "\n",
    "print(qiskit.__qiskit_version__)\n",
    "\n",
    "#nx.draw(graph, with_labels=True, alpha=0.8, node_size=500)"
   ]
  },
  {
   "cell_type": "markdown",
   "id": "57c24cc8",
   "metadata": {},
   "source": []
  },
  {
   "cell_type": "code",
   "execution_count": 24,
   "id": "21cabaf8",
   "metadata": {},
   "outputs": [],
   "source": [
    "# Grid/Graph creator\n",
    "def QAOA_Graph_Creator(label=\"standard\"):\n",
    "    graph = nx.Graph()\n",
    "    if label == \"standard\":\n",
    "        graph.add_nodes_from([0, 1, 2, 3])\n",
    "        graph.add_edges_from([(0, 1), (1, 2), (2, 3), (3, 0), (4,1),(4,2), (4,3)])\n",
    "    elif label == \"hardware\":\n",
    "        graph = nx.grid_2d_graph(3, 3)\n",
    "    elif label == \"Three-Regular\":\n",
    "        graph.add_nodes_from(range(8))  # This will add nodes 0 to 7\n",
    "        graph.add_edges_from([(0, 1), (0, 2), (0, 3), \n",
    "                              (1, 4), (1, 5), \n",
    "                              (2, 6), (2, 7), \n",
    "                              (3, 4), (3, 7), \n",
    "                              (4, 6), \n",
    "                              (5, 6), (5, 7)])\n",
    "    elif label == \"SK\": # SK = Sherrington-Kirkpatrick\n",
    "        num_nodes = 7\n",
    "        graph = nx.complete_graph(num_nodes)\n",
    "    return graph\n"
   ]
  },
  {
   "cell_type": "markdown",
   "id": "5cac65c9-3317-40be-842a-508e8e441a84",
   "metadata": {},
   "source": [
    "### The Problem Unitary (Hamiltonian)"
   ]
  },
  {
   "cell_type": "code",
   "execution_count": 25,
   "id": "9bcbf58e-ccf2-45a8-a679-433c4125635f",
   "metadata": {
    "tags": []
   },
   "outputs": [
    {
     "data": {
      "text/plain": [
       "'\\ngamma = Parameter(\"$\\\\gamma$\")\\nqc_p = QuantumCircuit(N_QUBITS)\\nfor pair in list(graph.edges()):  # pairs of nodes\\n    qc_p.rzz(2 * gamma, pair[0], pair[1])\\n    qc_p.barrier()\\n\\nqc_p.decompose().draw(\"mpl\")\\n'"
      ]
     },
     "execution_count": 25,
     "metadata": {},
     "output_type": "execute_result"
    }
   ],
   "source": [
    "\"\"\"\n",
    "gamma = Parameter(\"$\\\\gamma$\")\n",
    "qc_p = QuantumCircuit(N_QUBITS)\n",
    "for pair in list(graph.edges()):  # pairs of nodes\n",
    "    qc_p.rzz(2 * gamma, pair[0], pair[1])\n",
    "    qc_p.barrier()\n",
    "\n",
    "qc_p.decompose().draw(\"mpl\")\n",
    "\"\"\""
   ]
  },
  {
   "cell_type": "code",
   "execution_count": 26,
   "id": "d5e671e9",
   "metadata": {},
   "outputs": [],
   "source": [
    "# X-Mixer\n",
    "def x_mixer(qc, n, b):\n",
    "    for i in range(n):\n",
    "        qc.rx(2 * b, i)\n",
    "    return qc\n",
    "\n",
    "# XY-Mixer\n",
    "def xy_mixer_ring(qc, n, b):\n",
    "    for i in range(n-1):\n",
    "        qc.append(XXPlusYYGate(2*b, 0), [i, i+1])\n",
    "    qc.append(XXPlusYYGate(2*b, 0), [0, n-1])\n",
    "    return qc\n",
    "\n",
    "# Full-Mixer\n",
    "def xy_mixer_full(qc, n, b):\n",
    "    for i in range(n):\n",
    "        for j in range(i+1, n):\n",
    "            qc.append(XXPlusYYGate(2 * b), [i, j])\n",
    "    return qc\n",
    "            \n",
    "# Parity-Mixer\n",
    "def xy_mixer_parity(qc, n, b):\n",
    "    for i in range(n-1)[::2]:\n",
    "        qc.append(XXPlusYYGate(2 * b), [i, i + 1])\n",
    "    for i in range(n-1)[1::2]:\n",
    "        qc.append(XXPlusYYGate(2 * b), [i, i + 1])\n",
    "    return qc\n",
    "    "
   ]
  },
  {
   "cell_type": "markdown",
   "id": "e7cbcd94-0a77-424f-8e34-fbc5fe965fde",
   "metadata": {},
   "source": [
    "### The Mixing Unitary (Hamiltonian)"
   ]
  },
  {
   "cell_type": "code",
   "execution_count": 27,
   "id": "44ec7659-f24e-4d3c-936e-5cedf2e29747",
   "metadata": {
    "tags": []
   },
   "outputs": [
    {
     "data": {
      "text/plain": [
       "'\\n\\nadjacency = nx.adjacency_matrix(graph).todense()\\n\\nbeta = Parameter(\"$\\\\beta$\")\\nqc_mix = QuantumCircuit(N_QUBITS)\\nqc_mix = xy_mixer_parity(qc_mix, N_QUBITS, beta)\\nqc_mix.draw(\"mpl\")\\n'"
      ]
     },
     "execution_count": 27,
     "metadata": {},
     "output_type": "execute_result"
    }
   ],
   "source": [
    "\n",
    "\n",
    "# Adjacency is essentially a matrix which tells you which nodes are\n",
    "# connected. This matrix is given as a sparse matrix, so we need to\n",
    "# convert it to a dense matrix\n",
    "\"\"\"\n",
    "\n",
    "adjacency = nx.adjacency_matrix(graph).todense()\n",
    "\n",
    "beta = Parameter(\"$\\\\beta$\")\n",
    "qc_mix = QuantumCircuit(N_QUBITS)\n",
    "qc_mix = xy_mixer_parity(qc_mix, N_QUBITS, beta)\n",
    "qc_mix.draw(\"mpl\")\n",
    "\"\"\""
   ]
  },
  {
   "cell_type": "markdown",
   "id": "7ef71758-7be0-4440-a65e-a6c01a4fc82f",
   "metadata": {},
   "source": [
    "## Initial State"
   ]
  },
  {
   "cell_type": "code",
   "execution_count": 28,
   "id": "6a581cc6-0921-4cf7-8054-af39012b0afb",
   "metadata": {
    "tags": []
   },
   "outputs": [
    {
     "data": {
      "text/plain": [
       "'\\nqc_0 = QuantumCircuit(N_QUBITS)\\nfor i in range(N_QUBITS):\\n    qc_0.h(i)\\n\\nqc_0.draw(\"mpl\")\\n'"
      ]
     },
     "execution_count": 28,
     "metadata": {},
     "output_type": "execute_result"
    }
   ],
   "source": [
    "\"\"\"\n",
    "qc_0 = QuantumCircuit(N_QUBITS)\n",
    "for i in range(N_QUBITS):\n",
    "    qc_0.h(i)\n",
    "\n",
    "qc_0.draw(\"mpl\")\n",
    "\"\"\""
   ]
  },
  {
   "cell_type": "markdown",
   "id": "34f3a532-2b97-4b94-ba99-978c5d6d2afd",
   "metadata": {},
   "source": [
    "### The QAOA circuit"
   ]
  },
  {
   "cell_type": "code",
   "execution_count": 29,
   "id": "8260b5c0-a1b4-45aa-95f8-ae12dd2180e4",
   "metadata": {
    "scrolled": false,
    "tags": []
   },
   "outputs": [
    {
     "data": {
      "text/plain": [
       "'\\n\\nqc_qaoa = QuantumCircuit(N_QUBITS)\\nqc_qaoa.append(qc_0, range(N_QUBITS))\\nqc_qaoa.append(qc_p, range(N_QUBITS))\\nqc_qaoa.append(qc_mix, range(N_QUBITS))\\n\\nqc_qaoa.decompose().decompose().draw()\\n\\nqc_qaoa.decompose().draw(\"mpl\")\\n'"
      ]
     },
     "execution_count": 29,
     "metadata": {},
     "output_type": "execute_result"
    }
   ],
   "source": [
    "\"\"\"\n",
    "\n",
    "qc_qaoa = QuantumCircuit(N_QUBITS)\n",
    "qc_qaoa.append(qc_0, range(N_QUBITS))\n",
    "qc_qaoa.append(qc_p, range(N_QUBITS))\n",
    "qc_qaoa.append(qc_mix, range(N_QUBITS))\n",
    "\n",
    "qc_qaoa.decompose().decompose().draw()\n",
    "\n",
    "qc_qaoa.decompose().draw(\"mpl\")\n",
    "\"\"\""
   ]
  },
  {
   "cell_type": "code",
   "execution_count": 30,
   "id": "c43df83b-3312-44a4-99a5-21c89d1e3848",
   "metadata": {
    "tags": []
   },
   "outputs": [],
   "source": [
    "def maxcut_obj(solution, graph):\n",
    "    \"\"\"Given a bit string as a solution, this function returns\n",
    "    the number of edges shared between the two partitions\n",
    "    of the graph.\n",
    "    Args:\n",
    "        solution: (str) solution bit string\n",
    "        graph: networkx graph\n",
    "    Returns:\n",
    "        obj: (float) Objective\n",
    "    \"\"\"\n",
    "    obj = 0\n",
    "    for i, j in graph.edges():\n",
    "        if solution[i] != solution[j]:\n",
    "            obj -= 1\n",
    "    return obj\n",
    "\n",
    "\n",
    "def compute_expectation(counts, graph):\n",
    "    \"\"\"Computes expectation value based on measurement results\n",
    "    Args:\n",
    "        counts: (dict) key as bit string, val as count\n",
    "        graph: networkx graph\n",
    "    Returns:\n",
    "        avg: float\n",
    "             expectation value\n",
    "    \"\"\"\n",
    "    avg = 0\n",
    "    sum_count = 0\n",
    "    for bit_string, count in counts.items():\n",
    "        obj = maxcut_obj(bit_string, graph)\n",
    "        avg += obj * count\n",
    "        sum_count += count\n",
    "    return avg/sum_count\n",
    "\n",
    "\n",
    "# We will also bring the different circuit components that\n",
    "# build the qaoa circuit under a single function\n",
    "def create_qaoa_circ(graph, theta):\n",
    "    \"\"\"Creates a parametrized qaoa circuit\n",
    "    Args:\n",
    "        graph: networkx graph\n",
    "        theta: (list) unitary parameters\n",
    "    Returns:\n",
    "        (QuantumCircuit) qiskit circuit\n",
    "    \"\"\"\n",
    "    nqubits = len(graph.nodes())\n",
    "    n_layers = len(theta)//2  # number of alternating unitaries\n",
    "    beta = theta[:n_layers]\n",
    "    gamma = theta[n_layers:]\n",
    "\n",
    "    qc = QuantumCircuit(nqubits)\n",
    "\n",
    "    # initial_state\n",
    "    qc.h(range(nqubits))\n",
    "\n",
    "    for layer_index in range(n_layers):\n",
    "        # problem unitary\n",
    "        for pair in list(graph.edges()):\n",
    "            qc.rzz(2 * gamma[layer_index], pair[0], pair[1])\n",
    "        # mixer unitary\n",
    "        \n",
    "        qc = xy_mixer_ring(qc, nqubits, beta[layer_index])\n",
    "\n",
    "    qc.measure_all()\n",
    "    return qc\n",
    "\n",
    "\n",
    "# Finally we write a function that executes the circuit\n",
    "# on the chosen backend\n",
    "def get_expectation(graph, shots):\n",
    "    \"\"\"Runs parametrized circuit\n",
    "    Args:\n",
    "        graph: networkx graph\n",
    "    \"\"\"\n",
    "    backend = Aer.get_backend('qasm_simulator')\n",
    "    backend.shots = shots\n",
    "\n",
    "    def execute_circ(theta):\n",
    "        qc = create_qaoa_circ(graph, theta)\n",
    "        qc = transpile(qc, backend)\n",
    "        counts = backend.run(qc, nshots=shots).result().get_counts()\n",
    "        return compute_expectation(counts, graph)\n",
    "\n",
    "    return execute_circ"
   ]
  },
  {
   "cell_type": "code",
   "execution_count": 31,
   "id": "26b85c4f-e0fa-4ec9-82b5-f036becd5f09",
   "metadata": {
    "tags": []
   },
   "outputs": [
    {
     "data": {
      "text/plain": [
       " message: Optimization terminated successfully.\n",
       " success: True\n",
       "  status: 1\n",
       "     fun: -10.50390625\n",
       "       x: [ 9.792e-01  9.769e-01]\n",
       "    nfev: 27\n",
       "   maxcv: 0.0"
      ]
     },
     "execution_count": 31,
     "metadata": {},
     "output_type": "execute_result"
    }
   ],
   "source": [
    "from scipy.optimize import minimize\n",
    "\n",
    "#N_QUBITS = 5\n",
    "shots = 2048\n",
    "graph = QAOA_Graph_Creator(\"SK\")\n",
    "expectation = get_expectation(graph, shots)\n",
    "res = minimize(expectation,\n",
    "               [1.0, 1.0],\n",
    "               method='COBYLA')\n",
    "res"
   ]
  },
  {
   "cell_type": "code",
   "execution_count": null,
   "id": "2f38107a-91cb-4c1b-a4ea-984b78ce23a5",
   "metadata": {
    "tags": []
   },
   "outputs": [],
   "source": []
  },
  {
   "cell_type": "code",
   "execution_count": 32,
   "id": "3e7b8235-13bb-473f-b9b4-1075e8bbeb8b",
   "metadata": {},
   "outputs": [
    {
     "name": "stdout",
     "output_type": "stream",
     "text": [
      "        ┌───┐                                                                 »\n",
      "   q_0: ┤ H ├─■────────────■────────────■─────────────────────────■───────────»\n",
      "        ├───┤ │ZZ(1.9539)  │            │                         │           »\n",
      "   q_1: ┤ H ├─■────────────┼────────────┼────────────■────────────┼───────────»\n",
      "        ├───┤              │ZZ(1.9539)  │            │ZZ(1.9539)  │           »\n",
      "   q_2: ┤ H ├──────────────■────────────┼────────────■────────────┼───────────»\n",
      "        ├───┤                           │ZZ(1.9539)               │           »\n",
      "   q_3: ┤ H ├───────────────────────────■─────────────────────────┼───────────»\n",
      "        ├───┤                                                     │ZZ(1.9539) »\n",
      "   q_4: ┤ H ├─────────────────────────────────────────────────────■───────────»\n",
      "        ├───┤                                                                 »\n",
      "   q_5: ┤ H ├─────────────────────────────────────────────────────────────────»\n",
      "        ├───┤                                                                 »\n",
      "   q_6: ┤ H ├─────────────────────────────────────────────────────────────────»\n",
      "        └───┘                                                                 »\n",
      "meas: 7/══════════════════════════════════════════════════════════════════════»\n",
      "                                                                              »\n",
      "«                                                                         »\n",
      "«   q_0: ──────────────■──────────────────────────────────────■───────────»\n",
      "«                      │                                      │           »\n",
      "«   q_1: ─■────────────┼────────────■─────────────────────────┼───────────»\n",
      "«         │            │            │                         │           »\n",
      "«   q_2: ─┼────────────┼────────────┼────────────■────────────┼───────────»\n",
      "«         │ZZ(1.9539)  │            │            │ZZ(1.9539)  │           »\n",
      "«   q_3: ─■────────────┼────────────┼────────────■────────────┼───────────»\n",
      "«                      │            │ZZ(1.9539)               │           »\n",
      "«   q_4: ──────────────┼────────────■─────────────────────────┼───────────»\n",
      "«                      │ZZ(1.9539)                            │           »\n",
      "«   q_5: ──────────────■──────────────────────────────────────┼───────────»\n",
      "«                                                             │ZZ(1.9539) »\n",
      "«   q_6: ─────────────────────────────────────────────────────■───────────»\n",
      "«                                                                         »\n",
      "«meas: 7/═════════════════════════════════════════════════════════════════»\n",
      "«                                                                         »\n",
      "«                                               ┌────────────────────┐»\n",
      "«   q_0: ───────────────────────────────────────┤0                   ├»\n",
      "«                                               │  {XX+YY}(1.9583,0) │»\n",
      "«   q_1: ─■─────────────────────────■───────────┤1                   ├»\n",
      "«         │                         │           └────────────────────┘»\n",
      "«   q_2: ─┼────────────■────────────┼────────────────■────────────────»\n",
      "«         │            │            │                │                »\n",
      "«   q_3: ─┼────────────┼────────────┼────────────────┼────────────────»\n",
      "«         │            │ZZ(1.9539)  │                │                »\n",
      "«   q_4: ─┼────────────■────────────┼────────────────┼────────────────»\n",
      "«         │ZZ(1.9539)               │                │ZZ(1.9539)      »\n",
      "«   q_5: ─■─────────────────────────┼────────────────■────────────────»\n",
      "«                                   │ZZ(1.9539)                       »\n",
      "«   q_6: ───────────────────────────■─────────────────────────────────»\n",
      "«                                                                     »\n",
      "«meas: 7/═════════════════════════════════════════════════════════════»\n",
      "«                                                                     »\n",
      "«                                                                     »\n",
      "«   q_0: ─────────────────────────────────────────────────────────────»\n",
      "«                                  ┌────────────────────┐             »\n",
      "«   q_1: ──────────────────────────┤0                   ├─────────────»\n",
      "«                                  │  {XX+YY}(1.9583,0) │             »\n",
      "«   q_2: ──────────────■───────────┤1                   ├─────────────»\n",
      "«                      │           └────────────────────┘             »\n",
      "«   q_3: ─■────────────┼────────────────■─────────────────■───────────»\n",
      "«         │ZZ(1.9539)  │                │                 │           »\n",
      "«   q_4: ─■────────────┼────────────────┼─────────────────┼───────────»\n",
      "«                      │                │ZZ(1.9539)       │           »\n",
      "«   q_5: ──────────────┼────────────────■─────────────────┼───────────»\n",
      "«                      │ZZ(1.9539)                        │ZZ(1.9539) »\n",
      "«   q_6: ──────────────■──────────────────────────────────■───────────»\n",
      "«                                                                     »\n",
      "«meas: 7/═════════════════════════════════════════════════════════════»\n",
      "«                                                                     »\n",
      "«                                                                 »\n",
      "«   q_0: ─────────────────────────────────────────────────────────»\n",
      "«                                                                 »\n",
      "«   q_1: ─────────────────────────────────────────────────────────»\n",
      "«        ┌────────────────────┐                                   »\n",
      "«   q_2: ┤0                   ├───────────────────────────────────»\n",
      "«        │  {XX+YY}(1.9583,0) │             ┌────────────────────┐»\n",
      "«   q_3: ┤1                   ├─────────────┤0                   ├»\n",
      "«        └────────────────────┘             │  {XX+YY}(1.9583,0) │»\n",
      "«   q_4: ─────■─────────────────■───────────┤1                   ├»\n",
      "«             │ZZ(1.9539)       │           └────────────────────┘»\n",
      "«   q_5: ─────■─────────────────┼────────────────■────────────────»\n",
      "«                               │ZZ(1.9539)      │ZZ(1.9539)      »\n",
      "«   q_6: ───────────────────────■────────────────■────────────────»\n",
      "«                                                                 »\n",
      "«meas: 7/═════════════════════════════════════════════════════════»\n",
      "«                                                                 »\n",
      "«                                                    ┌────────────────────┐ ░ »\n",
      "«   q_0: ────────────────────────────────────────────┤0                   ├─░─»\n",
      "«                                                    │                    │ ░ »\n",
      "«   q_1: ────────────────────────────────────────────┤                    ├─░─»\n",
      "«                                                    │                    │ ░ »\n",
      "«   q_2: ────────────────────────────────────────────┤                    ├─░─»\n",
      "«                                                    │                    │ ░ »\n",
      "«   q_3: ────────────────────────────────────────────┤  {XX+YY}(1.9583,0) ├─░─»\n",
      "«        ┌────────────────────┐                      │                    │ ░ »\n",
      "«   q_4: ┤0                   ├──────────────────────┤                    ├─░─»\n",
      "«        │  {XX+YY}(1.9583,0) │┌────────────────────┐│                    │ ░ »\n",
      "«   q_5: ┤1                   ├┤0                   ├┤                    ├─░─»\n",
      "«        └────────────────────┘│  {XX+YY}(1.9583,0) ││                    │ ░ »\n",
      "«   q_6: ──────────────────────┤1                   ├┤1                   ├─░─»\n",
      "«                              └────────────────────┘└────────────────────┘ ░ »\n",
      "«meas: 7/═════════════════════════════════════════════════════════════════════»\n",
      "«                                                                             »\n",
      "«        ┌─┐                  \n",
      "«   q_0: ┤M├──────────────────\n",
      "«        └╥┘┌─┐               \n",
      "«   q_1: ─╫─┤M├───────────────\n",
      "«         ║ └╥┘┌─┐            \n",
      "«   q_2: ─╫──╫─┤M├────────────\n",
      "«         ║  ║ └╥┘┌─┐         \n",
      "«   q_3: ─╫──╫──╫─┤M├─────────\n",
      "«         ║  ║  ║ └╥┘┌─┐      \n",
      "«   q_4: ─╫──╫──╫──╫─┤M├──────\n",
      "«         ║  ║  ║  ║ └╥┘┌─┐   \n",
      "«   q_5: ─╫──╫──╫──╫──╫─┤M├───\n",
      "«         ║  ║  ║  ║  ║ └╥┘┌─┐\n",
      "«   q_6: ─╫──╫──╫──╫──╫──╫─┤M├\n",
      "«         ║  ║  ║  ║  ║  ║ └╥┘\n",
      "«meas: 7/═╩══╩══╩══╩══╩══╩══╩═\n",
      "«         0  1  2  3  4  5  6 \n"
     ]
    },
    {
     "data": {
      "image/png": "[encoded data removed]",
      "text/plain": [
       "<Figure size 700x500 with 1 Axes>"
      ]
     },
     "execution_count": 32,
     "metadata": {},
     "output_type": "execute_result"
    }
   ],
   "source": [
    "from qiskit import BasicAer\n",
    "from qiskit.visualization import plot_histogram\n",
    "from qiskit.execute_function import execute\n",
    "\n",
    "backend = Aer.get_backend('aer_simulator')\n",
    "backend.shots = shots\n",
    "\n",
    "qc_res = create_qaoa_circ(graph, res.x)\n",
    "print(qc_res.draw())\n",
    "\n",
    "counts = execute(qc_res, backend).result().get_counts()\n",
    "#counts = backend.run(qc_res, seed_simulator=5).result().get_counts()\n",
    "plot_histogram(counts)\n",
    "\n"
   ]
  },
  {
   "cell_type": "code",
   "execution_count": 33,
   "id": "388f6263",
   "metadata": {},
   "outputs": [],
   "source": [
    "for key, val in counts.items():\n",
    "    if(val>=80):\n",
    "        print(str(key)+\" \"+str(val))"
   ]
  },
  {
   "cell_type": "code",
   "execution_count": 34,
   "id": "01a65ac9",
   "metadata": {},
   "outputs": [],
   "source": [
    "#xmixer\n",
    "#01011 110\n",
    "#10100 100\n",
    "#xy mixer ring\n",
    "#11010 103\n",
    "#01010 145\n",
    "#10101 135\n",
    "\n",
    "#xy full\n",
    "#10101 148\n",
    "#00001 142\n",
    "#01010 167\n",
    "#11110 157"
   ]
  },
  {
   "cell_type": "code",
   "execution_count": 36,
   "id": "3dd4abcd",
   "metadata": {},
   "outputs": [
    {
     "data": {
      "image/png": "[encoded data removed]",
      "text/plain": [
       "<Figure size 640x480 with 2 Axes>"
      ]
     },
     "metadata": {},
     "output_type": "display_data"
    }
   ],
   "source": [
    "import numpy as np\n",
    "import matplotlib.pyplot as plt\n",
    "from scipy.optimize import minimize\n",
    "from math import pi\n",
    "\n",
    "# Define the range of gamma and beta values\n",
    "gamma_values = np.linspace(-1.5, 1.5, 10)\n",
    "beta_values = np.linspace(-1.5, 1.5, 10)\n",
    "\n",
    "# Initialize an array to store the function values\n",
    "fun_values = np.zeros((len(gamma_values), len(beta_values)))\n",
    "\n",
    "# Run the QAOA circuit for each pair of gamma and beta values\n",
    "for i, gamma in enumerate(gamma_values):\n",
    "    for j, beta in enumerate(beta_values):\n",
    "        theta = [beta, gamma]\n",
    "        expectation = get_expectation(graph, shots)\n",
    "        res = minimize(expectation, theta, method='COBYLA')\n",
    "        fun_values[i, j] = res.fun\n",
    "\n",
    "# Create the contour plot\n",
    "plt.contourf(gamma_values, beta_values, fun_values)\n",
    "plt.colorbar(label='Function value')\n",
    "plt.xlabel('Gamma')\n",
    "plt.ylabel('Beta')\n",
    "plt.show()\n"
   ]
  },
  {
   "cell_type": "code",
   "execution_count": null,
   "id": "3f571dc1",
   "metadata": {},
   "outputs": [],
   "source": []
  }
 ],
 "metadata": {
  "kernelspec": {
   "display_name": "Python 3 (ipykernel)",
   "language": "python",
   "name": "python3"
  },
  "language_info": {
   "codemirror_mode": {
    "name": "ipython",
    "version": 3
   },
   "file_extension": ".py",
   "mimetype": "text/x-python",
   "name": "python",
   "nbconvert_exporter": "python",
   "pygments_lexer": "ipython3",
   "version": "3.10.9"
  },
  "widgets": {
   "application/vnd.jupyter.widget-state+json": {
    "state": {},
    "version_major": 2,
    "version_minor": 0
   }
  }
 },
 "nbformat": 4,
 "nbformat_minor": 5
}
