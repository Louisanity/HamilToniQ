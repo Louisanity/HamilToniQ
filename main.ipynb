{
 "cells": [
  {
   "cell_type": "code",
   "execution_count": 9,
   "metadata": {},
   "outputs": [],
   "source": [
    "import datetime\n",
    "from qiskit_finance.data_providers import RandomDataProvider\n",
    "import numpy as np"
   ]
  },
  {
   "cell_type": "code",
   "execution_count": 10,
   "metadata": {},
   "outputs": [],
   "source": [
    "n_qubits = 4\n",
    "seed = 123\n",
    "\n",
    "# Generate expected return and covariance matrix from (random) time-series\n",
    "stocks = [(\"TICKER%s\" % i) for i in range(n_qubits)]\n",
    "data = RandomDataProvider(\n",
    "    tickers=stocks,\n",
    "    start=datetime.datetime(2016, 1, 1),\n",
    "    end=datetime.datetime(2016, 1, 30),\n",
    "    seed=seed,\n",
    ")\n",
    "data.run()\n",
    "\n",
    "mu = data.get_period_return_mean_vector()\n",
    "sigma = data.get_period_return_covariance_matrix()"
   ]
  },
  {
   "cell_type": "code",
   "execution_count": 11,
   "metadata": {},
   "outputs": [],
   "source": [
    "def QUBO_from_portfolio(cov, mean, q, B, t):\n",
    "    # cov: n x n covariance numpy array\n",
    "    # mean: numpy array of means\n",
    "    n = cov.shape[0]\n",
    "    R = np.diag(mean)\n",
    "    S = np.ones((n, n)) - 2 * B * np.diag(np.ones(n))\n",
    "\n",
    "    Q = q * cov - R + t * S\n",
    "    return Q"
   ]
  },
  {
   "cell_type": "code",
   "execution_count": 12,
   "metadata": {},
   "outputs": [],
   "source": [
    "q = 0.5\n",
    "budget = 3  # Note that in this example, there are 4 assets, but a budget of only 3\n",
    "penalty = 3\n",
    "\n",
    "Q = QUBO_from_portfolio(sigma, mu, q, budget, penalty)"
   ]
  },
  {
   "cell_type": "code",
   "execution_count": 13,
   "metadata": {},
   "outputs": [
    {
     "name": "stdout",
     "output_type": "stream",
     "text": [
      "\n",
      "-------------------------------------\n",
      "    selection\t  |\t  cost\n",
      "-------------------------------------\n",
      "      1011\t  |\t-27.0150\n",
      "      1101\t  |\t-27.0139\n",
      "      1110\t  |\t-27.0130\n",
      "      0111\t  |\t-27.0000\n",
      "      1001\t  |\t-24.0149\n",
      "      1010\t  |\t-24.0140\n",
      "      1111\t  |\t-24.0139\n",
      "      1100\t  |\t-24.0130\n",
      "      0011\t  |\t-24.0010\n",
      "      0101\t  |\t-23.9998\n",
      "      0110\t  |\t-23.9992\n",
      "      1000\t  |\t-15.0140\n",
      "      0001\t  |\t-15.0008\n",
      "      0010\t  |\t-15.0001\n",
      "      0100\t  |\t-14.9991\n",
      "      0000\t  |\t0.0000\n",
      "-------------------------------------\n"
     ]
    }
   ],
   "source": [
    "# Brutely search over classical results for comparison before we run QAOA\n",
    "# the results are sorted with cost\n",
    "states = []\n",
    "for i in range(2**n_qubits):\n",
    "    a = f\"{bin(i)[2:]:0>{n_qubits}}\"\n",
    "    n_ones = 0\n",
    "    for j in a:\n",
    "        if j == '1':\n",
    "            n_ones += 1\n",
    "    if True:#n_ones != budget:\n",
    "        states.append(a)\n",
    "cost_dict = {}\n",
    "for selection in states:\n",
    "    x = np.array([int(bit) for bit in selection])\n",
    "    cost_dict[selection] = np.dot(x, np.dot(Q, x))\n",
    "cost_sorted = dict(sorted(cost_dict.items(), key=lambda item: item[1]))\n",
    "print(\"\\n-------------------------------------\")\n",
    "print(\"    selection\\t  |\\t  cost\")\n",
    "print(\"-------------------------------------\")\n",
    "for k, v in cost_sorted.items():\n",
    "    print(\"%10s\\t  |\\t%.4f\" % (k, v))\n",
    "print(\"-------------------------------------\")"
   ]
  }
 ],
 "metadata": {
  "kernelspec": {
   "display_name": "QC",
   "language": "python",
   "name": "python3"
  },
  "language_info": {
   "codemirror_mode": {
    "name": "ipython",
    "version": 3
   },
   "file_extension": ".py",
   "mimetype": "text/x-python",
   "name": "python",
   "nbconvert_exporter": "python",
   "pygments_lexer": "ipython3",
   "version": "3.10.10"
  },
  "orig_nbformat": 4
 },
 "nbformat": 4,
 "nbformat_minor": 2
}
